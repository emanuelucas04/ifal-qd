{
 "cells": [
  {
   "cell_type": "code",
   "execution_count": 5,
   "metadata": {},
   "outputs": [
    {
     "name": "stdout",
     "output_type": "stream",
     "text": [
      "(12743, 9)\n",
      "        cod  possui_nomeacoes  possui_exoneracoes  municipio   ano  mes  dia  \\\n",
      "0  7FAF9A43             False               False  arapiraca  2022    2   25   \n",
      "1  799E1734             False               False  arapiraca  2022    2   25   \n",
      "2  AE23279C             False               False  arapiraca  2022    2   25   \n",
      "3  A3E1293A             False               False  arapiraca  2022    2   25   \n",
      "4  1E3A9996             False               False  arapiraca  2022    2   25   \n",
      "\n",
      "   num_nomeacoes  num_exoneracoes  \n",
      "0              0                0  \n",
      "1              0                0  \n",
      "2              0                0  \n",
      "3              0                0  \n",
      "4              0                0  \n"
     ]
    }
   ],
   "source": [
    "import json\n",
    "import glob\n",
    "import os.path\n",
    "import pandas as pd\n",
    "\n",
    "resultado = []\n",
    "for path in glob.glob(\"../data/diarios/*-atos.json\"):\n",
    "    data = os.path.basename(path).split(\"-atos\")[0]\n",
    "    with open(path) as json_file:\n",
    "        diarios = json.load(json_file)        \n",
    "        \n",
    "        # remove conteúdo desnecessário para a análise.\n",
    "        # transforma json strings em dicts python para facilitar manipulação.\n",
    "        # cria estrutura própria para manipulação dos dados.\n",
    "        for diario in diarios:\n",
    "            diario = json.loads(diario)\n",
    "            del diario[\"cabecalho\"]\n",
    "            for ato in diario[\"atos\"]:\n",
    "                ato = json.loads(ato) \n",
    "                del ato[\"texto\"]\n",
    "                ato[\"municipio\"] = diario[\"id\"]\n",
    "                data_quebrada = diario[\"data_publicacao\"].split(\"-\")\n",
    "                ato[\"ano\"] = int(data_quebrada[0])\n",
    "                ato[\"mes\"] = int(data_quebrada[1])\n",
    "                ato[\"dia\"] = int(data_quebrada[2])\n",
    "                ato[\"num_nomeacoes\"] = len(ato[\"cpf_nomeacoes\"])\n",
    "                del ato[\"cpf_nomeacoes\"]\n",
    "                ato[\"num_exoneracoes\"] = len(ato[\"cpf_exoneracoes\"])\n",
    "                del ato[\"cpf_exoneracoes\"]\n",
    "                resultado.append(ato)\n",
    "\n",
    "df = pd.DataFrame.from_records(resultado)\n",
    "print(df.shape)\n",
    "print(df.head())"
   ]
  },
  {
   "cell_type": "code",
   "execution_count": 13,
   "metadata": {},
   "outputs": [
    {
     "name": "stdout",
     "output_type": "stream",
     "text": [
      "\n",
      "## Total de nomeações: 1350\n",
      "\n",
      "## Nomeações por mês\n",
      "\n",
      "ano   mes\n",
      "2022  3      593\n",
      "      4      293\n",
      "      2      215\n",
      "      5      141\n",
      "      1      108\n",
      "Name: num_nomeacoes, dtype: int64\n",
      "\n",
      "## Top 15 Municípios com maior número de nomeações\n",
      "\n",
      "municipio\n",
      "delmiro-gouveia         241\n",
      "mata-grande             219\n",
      "rio-largo               120\n",
      "teotonio-vilela          93\n",
      "sao-jose-da-tapera       78\n",
      "pariconha                57\n",
      "poco-das-trincheiras     57\n",
      "arapiraca                54\n",
      "marechal-deodoro         53\n",
      "pao-de-acucar            50\n",
      "Name: num_nomeacoes, dtype: int64\n"
     ]
    }
   ],
   "source": [
    "print(\"\\n## Total de nomeações: \" + df[\"num_nomeacoes\"].sum().astype(str))\n",
    "\n",
    "print(\"\\n## Nomeações por mês\\n\")\n",
    "print(df.groupby([\"ano\", \"mes\"])[\"num_nomeacoes\"].sum().sort_values(ascending=False).head(10))\n",
    "\n",
    "print(\"\\n## Top 10 Municípios com maior número de nomeações\\n\")\n",
    "print(df.groupby([\"municipio\"])[\"num_nomeacoes\"].sum().sort_values(ascending=False).head(10))"
   ]
  },
  {
   "cell_type": "code",
   "execution_count": 14,
   "metadata": {},
   "outputs": [
    {
     "name": "stdout",
     "output_type": "stream",
     "text": [
      "\n",
      "## Total de exonerações: 200\n",
      "\n",
      "## Exonerações por mês\n",
      "\n",
      "ano   mes\n",
      "2022  2      61\n",
      "      4      44\n",
      "      5      42\n",
      "      3      39\n",
      "      1      14\n",
      "Name: num_exoneracoes, dtype: int64\n",
      "\n",
      "## Top 15 Municípios com maior número de exonerações\n",
      "\n",
      "municipio\n",
      "delmiro-gouveia         38\n",
      "minador-do-negrao       33\n",
      "maragogi                21\n",
      "inhapi                  15\n",
      "rio-largo               13\n",
      "poco-das-trincheiras    12\n",
      "marechal-deodoro         9\n",
      "sao-jose-da-tapera       9\n",
      "atalaia                  6\n",
      "piranhas                 6\n",
      "junqueiro                5\n",
      "ouro-branco              5\n",
      "pilar                    5\n",
      "pao-de-acucar            4\n",
      "cacimbinhas              3\n",
      "Name: num_exoneracoes, dtype: int64\n"
     ]
    }
   ],
   "source": [
    "print(\"\\n## Total de exonerações: \" + df[\"num_exoneracoes\"].sum().astype(str))\n",
    "\n",
    "print(\"\\n## Exonerações por mês\\n\")\n",
    "print(df.groupby([\"ano\", \"mes\"])[\"num_exoneracoes\"].sum().sort_values(ascending=False).head(10))\n",
    "\n",
    "print(\"\\n## Top 10 Municípios com maior número de exonerações\\n\")\n",
    "print(df.groupby([\"municipio\"])[\"num_exoneracoes\"].sum().sort_values(ascending=False).head(10))"
   ]
  }
 ],
 "metadata": {
  "kernelspec": {
   "display_name": "Python 3",
   "language": "python",
   "name": "python3"
  },
  "language_info": {
   "codemirror_mode": {
    "name": "ipython",
    "version": 3
   },
   "file_extension": ".py",
   "mimetype": "text/x-python",
   "name": "python",
   "nbconvert_exporter": "python",
   "pygments_lexer": "ipython3",
   "version": "3.10.7"
  },
  "orig_nbformat": 4,
  "vscode": {
   "interpreter": {
    "hash": "aee8b7b246df8f9039afb4144a1f6fd8d2ca17a180786b69acc140d282b71a49"
   }
  }
 },
 "nbformat": 4,
 "nbformat_minor": 2
}
