{
 "cells": [
  {
   "cell_type": "code",
   "execution_count": 33,
   "metadata": {},
   "outputs": [
    {
     "name": "stdout",
     "output_type": "stream",
     "text": [
      "           cod  possui_nomeacoes  possui_exoneracoes        municipio  \\\n",
      "0     90BBA71D             False               False        arapiraca   \n",
      "1     41AF5BB9             False               False        arapiraca   \n",
      "2     E3C2D326             False               False        arapiraca   \n",
      "3     0952E7BE             False               False        arapiraca   \n",
      "4     198E45C5             False               False        arapiraca   \n",
      "...        ...               ...                 ...              ...   \n",
      "1781  41103A68             False               False           satuba   \n",
      "1782  12901B2E             False               False           satuba   \n",
      "1783  61D2CD9E             False               False        taquarana   \n",
      "1784  229E95A7             False               False  teotonio-vilela   \n",
      "1785  56499F66             False               False  teotonio-vilela   \n",
      "\n",
      "            data  num_nomeacoes  num_exoneracoes  \n",
      "0     2022-01-05              0                0  \n",
      "1     2022-01-05              0                0  \n",
      "2     2022-01-05              0                0  \n",
      "3     2022-01-05              0                0  \n",
      "4     2022-01-05              0                0  \n",
      "...          ...            ...              ...  \n",
      "1781  2022-01-21              0                0  \n",
      "1782  2022-01-21              0                0  \n",
      "1783  2022-01-21              0                0  \n",
      "1784  2022-01-21              0                0  \n",
      "1785  2022-01-21              0                0  \n",
      "\n",
      "[1786 rows x 7 columns]\n"
     ]
    }
   ],
   "source": [
    "import json\n",
    "import glob\n",
    "import os.path\n",
    "import pandas as pd\n",
    "\n",
    "resultado = []\n",
    "for path in glob.glob(\"../data/diarios/*-atos.json\"):\n",
    "    data = os.path.basename(path).split(\"-atos\")[0]\n",
    "    with open(path) as json_file:\n",
    "        diarios = json.load(json_file)        \n",
    "        \n",
    "        # remove conteúdo desnecessário para a análise.\n",
    "        # transforma json strings em dicts python para facilitar manipulação.\n",
    "        # cria estrutura própria para manipulação dos dados.\n",
    "        for diario in diarios:\n",
    "            diario = json.loads(diario)\n",
    "            del diario[\"cabecalho\"]\n",
    "            for ato in diario[\"atos\"]:\n",
    "                ato = json.loads(ato) \n",
    "                del ato[\"texto\"]\n",
    "                ato[\"municipio\"] = diario[\"id\"]\n",
    "                ato[\"data\"] = diario[\"data_publicacao\"]\n",
    "                ato[\"num_nomeacoes\"] = len(ato[\"cpf_nomeacoes\"])\n",
    "                del ato[\"cpf_nomeacoes\"]\n",
    "                ato[\"num_exoneracoes\"] = len(ato[\"cpf_exoneracoes\"])\n",
    "                del ato[\"cpf_exoneracoes\"]\n",
    "                resultado.append(ato)\n",
    "\n",
    "df = pd.DataFrame.from_records(resultado)\n",
    "print(df.head())\n",
    "\n"
   ]
  },
  {
   "cell_type": "code",
   "execution_count": null,
   "metadata": {},
   "outputs": [],
   "source": [
    " "
   ]
  }
 ],
 "metadata": {
  "kernelspec": {
   "display_name": "Python 3",
   "language": "python",
   "name": "python3"
  },
  "language_info": {
   "codemirror_mode": {
    "name": "ipython",
    "version": 3
   },
   "file_extension": ".py",
   "mimetype": "text/x-python",
   "name": "python",
   "nbconvert_exporter": "python",
   "pygments_lexer": "ipython3",
   "version": "3.10.7"
  },
  "orig_nbformat": 4,
  "vscode": {
   "interpreter": {
    "hash": "aee8b7b246df8f9039afb4144a1f6fd8d2ca17a180786b69acc140d282b71a49"
   }
  }
 },
 "nbformat": 4,
 "nbformat_minor": 2
}
