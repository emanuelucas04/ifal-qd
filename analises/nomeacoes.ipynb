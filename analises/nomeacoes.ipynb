{
 "cells": [
  {
   "cell_type": "code",
   "execution_count": 88,
   "metadata": {},
   "outputs": [
    {
     "name": "stdout",
     "output_type": "stream",
     "text": [
      "(30503, 9)\n",
      "   municipio       cod  possui_nomeacoes  possui_exoneracoes  num_nomeacoes  \\\n",
      "0  arapiraca  7FAF9A43             False               False              0   \n",
      "1  arapiraca  799E1734             False               False              0   \n",
      "2  arapiraca  AE23279C             False               False              0   \n",
      "3  arapiraca  A3E1293A             False               False              0   \n",
      "4  arapiraca  1E3A9996             False               False              0   \n",
      "\n",
      "   num_exoneracoes   ano  mes  dia  \n",
      "0                0  2022    2   25  \n",
      "1                0  2022    2   25  \n",
      "2                0  2022    2   25  \n",
      "3                0  2022    2   25  \n",
      "4                0  2022    2   25  \n",
      "\n",
      "## Total de municípios: 91\n"
     ]
    }
   ],
   "source": [
    "import pandas as pd\n",
    "\n",
    "df = pd.read_json(\"https://github.com/danielfireman/ifal-qd/raw/main/df.zip\")\n",
    "print(df.shape)\n",
    "print(df.head())\n",
    "print(\"\\n## Total de municípios: \" + str(df[\"municipio\"].unique().size))\n"
   ]
  },
  {
   "cell_type": "code",
   "execution_count": 89,
   "metadata": {},
   "outputs": [
    {
     "name": "stdout",
     "output_type": "stream",
     "text": [
      "\n",
      "## Total de atos: 30503\n",
      "\n",
      "## Total de Atos por mês\n",
      "\n",
      "ano   mes\n",
      "2022  1      1786\n",
      "      2      2376\n",
      "      3      2937\n",
      "      4      2576\n",
      "      5      3068\n",
      "      6      3050\n",
      "      7      2787\n",
      "      8      3006\n",
      "      9      2455\n",
      "      10     1918\n",
      "      11     2215\n",
      "      12     2329\n",
      "Name: cod, dtype: int64\n"
     ]
    }
   ],
   "source": [
    "print(\"\\n## Total de atos: \" + df[\"cod\"].count().astype(str))\n",
    "\n",
    "print(\"\\n## Total de Atos por mês\\n\")\n",
    "print(df.groupby([\"ano\", \"mes\"])[\"cod\"].count())\n"
   ]
  },
  {
   "cell_type": "code",
   "execution_count": 90,
   "metadata": {},
   "outputs": [
    {
     "name": "stdout",
     "output_type": "stream",
     "text": [
      "\n",
      "## Média de Atos dos município mês\n",
      "\n",
      "ano   mes\n",
      "2022  1      21.780488\n",
      "      2      28.285714\n",
      "      3      34.151163\n",
      "      4      31.414634\n",
      "      5      35.264368\n",
      "      6      35.465116\n",
      "      7      32.406977\n",
      "      8      35.364706\n",
      "      9      27.897727\n",
      "      10     22.045977\n",
      "      11     26.369048\n",
      "      12     27.400000\n",
      "Name: cod, dtype: float64\n"
     ]
    }
   ],
   "source": [
    "print(\"\\n## Média de Atos dos município mês\\n\")\n",
    "print(df.groupby([\"ano\", \"mes\"])[[\"cod\", \"municipio\"]].apply(\n",
    "    lambda x: x.count() / x[\"municipio\"].unique().size)[\"cod\"])\n"
   ]
  },
  {
   "cell_type": "code",
   "execution_count": 91,
   "metadata": {},
   "outputs": [
    {
     "name": "stdout",
     "output_type": "stream",
     "text": [
      "\n",
      "## Top 10 Municípios com maior número de atos\n",
      "\n",
      "municipio\n",
      "delmiro-gouveia       2550\n",
      "marechal-deodoro      2123\n",
      "arapiraca             1639\n",
      "rio-largo             1382\n",
      "campo-alegre          1259\n",
      "teotonio-vilela       1256\n",
      "maragogi              1053\n",
      "pilar                 1006\n",
      "sao-jose-da-tapera     878\n",
      "junqueiro              696\n",
      "Name: cod, dtype: int64\n"
     ]
    }
   ],
   "source": [
    "print(\"\\n## Top 10 Municípios com maior número de atos\\n\")\n",
    "print(df.groupby([\"municipio\"])[\"cod\"].count().sort_values(ascending=False).head(10))\n"
   ]
  },
  {
   "cell_type": "code",
   "execution_count": 92,
   "metadata": {},
   "outputs": [
    {
     "name": "stdout",
     "output_type": "stream",
     "text": [
      "\n",
      "## Total de nomeações: 2459\n",
      "\n",
      "## Nomeações por mês\n",
      "\n",
      "ano   mes\n",
      "2022  1      108\n",
      "      2      215\n",
      "      3      593\n",
      "      4      293\n",
      "      5      141\n",
      "      6      406\n",
      "      7      182\n",
      "      8      124\n",
      "      9      168\n",
      "      10      79\n",
      "      11      59\n",
      "      12      91\n",
      "Name: num_nomeacoes, dtype: int64\n"
     ]
    }
   ],
   "source": [
    "print(\"\\n## Total de nomeações: \" + df[\"num_nomeacoes\"].sum().astype(str))\n",
    "\n",
    "print(\"\\n## Nomeações por mês\\n\")\n",
    "print(df.groupby([\"ano\", \"mes\"])[\"num_nomeacoes\"].sum())"
   ]
  },
  {
   "cell_type": "code",
   "execution_count": 93,
   "metadata": {},
   "outputs": [
    {
     "name": "stdout",
     "output_type": "stream",
     "text": [
      "\n",
      "## Média de Nomeações dos município por mês\n",
      "\n",
      "ano   mes\n",
      "2022  1      1.317073\n",
      "      2      2.559524\n",
      "      3      6.895349\n",
      "      4      3.573171\n",
      "      5      1.620690\n",
      "      6      4.720930\n",
      "      7      2.116279\n",
      "      8      1.458824\n",
      "      9      1.909091\n",
      "      10     0.908046\n",
      "      11     0.702381\n",
      "      12     1.070588\n",
      "dtype: float64\n"
     ]
    }
   ],
   "source": [
    "print(\"\\n## Média de Nomeações dos município por mês\\n\")\n",
    "print(df.groupby([\"ano\", \"mes\"])[[\"municipio\", \"num_nomeacoes\"]].apply(\n",
    "    lambda x: x[\"num_nomeacoes\"].sum() / x[\"municipio\"].unique().size))"
   ]
  },
  {
   "cell_type": "code",
   "execution_count": 94,
   "metadata": {},
   "outputs": [
    {
     "name": "stdout",
     "output_type": "stream",
     "text": [
      "\n",
      "## Top 10 Municípios com maior número de nomeações\n",
      "\n",
      "municipio\n",
      "delmiro-gouveia       456\n",
      "maragogi              386\n",
      "mata-grande           283\n",
      "pariconha             130\n",
      "rio-largo             127\n",
      "arapiraca             118\n",
      "marechal-deodoro      102\n",
      "teotonio-vilela       100\n",
      "sao-jose-da-tapera     96\n",
      "maravilha              71\n",
      "Name: num_nomeacoes, dtype: int64\n"
     ]
    }
   ],
   "source": [
    "print(\"\\n## Top 10 Municípios com maior número de nomeações\\n\")\n",
    "print(df.groupby([\"municipio\"])[\"num_nomeacoes\"].sum(\n",
    ").sort_values(ascending=False).head(10))"
   ]
  },
  {
   "cell_type": "code",
   "execution_count": 95,
   "metadata": {},
   "outputs": [
    {
     "name": "stdout",
     "output_type": "stream",
     "text": [
      "\n",
      "## Total de exonerações: 485\n",
      "\n",
      "## Exonerações por mês\n",
      "\n",
      "ano   mes\n",
      "2022  1      14\n",
      "      2      61\n",
      "      3      39\n",
      "      4      44\n",
      "      5      42\n",
      "      6      36\n",
      "      7      95\n",
      "      8      30\n",
      "      9      33\n",
      "      10     34\n",
      "      11     23\n",
      "      12     34\n",
      "Name: num_exoneracoes, dtype: int64\n"
     ]
    }
   ],
   "source": [
    "print(\"\\n## Total de exonerações: \" + df[\"num_exoneracoes\"].sum().astype(str))\n",
    "\n",
    "print(\"\\n## Exonerações por mês\\n\")\n",
    "print(df.groupby([\"ano\", \"mes\"])[\"num_exoneracoes\"].sum())"
   ]
  },
  {
   "cell_type": "code",
   "execution_count": 96,
   "metadata": {},
   "outputs": [
    {
     "name": "stdout",
     "output_type": "stream",
     "text": [
      "\n",
      "## Média de Exonerações dos município por mês\n",
      "\n",
      "ano   mes\n",
      "2022  1      0.170732\n",
      "      2      0.726190\n",
      "      3      0.453488\n",
      "      4      0.536585\n",
      "      5      0.482759\n",
      "      6      0.418605\n",
      "      7      1.104651\n",
      "      8      0.352941\n",
      "      9      0.375000\n",
      "      10     0.390805\n",
      "      11     0.273810\n",
      "      12     0.400000\n",
      "dtype: float64\n"
     ]
    }
   ],
   "source": [
    "print(\"\\n## Média de Exonerações dos município por mês\\n\")\n",
    "print(df.groupby([\"ano\", \"mes\"])[[\"municipio\", \"num_exoneracoes\"]].apply(\n",
    "    lambda x: x[\"num_exoneracoes\"].sum() / x[\"municipio\"].unique().size))"
   ]
  },
  {
   "cell_type": "code",
   "execution_count": 97,
   "metadata": {},
   "outputs": [
    {
     "name": "stdout",
     "output_type": "stream",
     "text": [
      "\n",
      "## Top 10 Municípios com maior número de exonerações\n",
      "\n",
      "municipio\n",
      "delmiro-gouveia       107\n",
      "maragogi               56\n",
      "minador-do-negrao      50\n",
      "rio-largo              44\n",
      "sao-jose-da-tapera     21\n",
      "inhapi                 18\n",
      "piranhas               18\n",
      "mata-grande            16\n",
      "pao-de-acucar          16\n",
      "jequia-da-praia        15\n",
      "Name: num_exoneracoes, dtype: int64\n"
     ]
    }
   ],
   "source": [
    "print(\"\\n## Top 10 Municípios com maior número de exonerações\\n\")\n",
    "print(df.groupby([\"municipio\"])[\"num_exoneracoes\"].sum().sort_values(ascending=False).head(10))"
   ]
  }
 ],
 "metadata": {
  "kernelspec": {
   "display_name": "Python 3",
   "language": "python",
   "name": "python3"
  },
  "language_info": {
   "codemirror_mode": {
    "name": "ipython",
    "version": 3
   },
   "file_extension": ".py",
   "mimetype": "text/x-python",
   "name": "python",
   "nbconvert_exporter": "python",
   "pygments_lexer": "ipython3",
   "version": "3.10.7"
  },
  "orig_nbformat": 4,
  "vscode": {
   "interpreter": {
    "hash": "aee8b7b246df8f9039afb4144a1f6fd8d2ca17a180786b69acc140d282b71a49"
   }
  }
 },
 "nbformat": 4,
 "nbformat_minor": 2
}
