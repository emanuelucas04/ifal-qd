{
 "cells": [
  {
   "cell_type": "code",
   "execution_count": 8,
   "metadata": {},
   "outputs": [
    {
     "name": "stdout",
     "output_type": "stream",
     "text": [
      "(12743, 9)\n",
      "   municipio       cod  possui_nomeacoes  possui_exoneracoes  num_nomeacoes  \\\n",
      "0  arapiraca  7FAF9A43             False               False              0   \n",
      "1  arapiraca  799E1734             False               False              0   \n",
      "2  arapiraca  AE23279C             False               False              0   \n",
      "3  arapiraca  A3E1293A             False               False              0   \n",
      "4  arapiraca  1E3A9996             False               False              0   \n",
      "\n",
      "   num_exoneracoes   ano  mes  dia  \n",
      "0                0  2022    2   25  \n",
      "1                0  2022    2   25  \n",
      "2                0  2022    2   25  \n",
      "3                0  2022    2   25  \n",
      "4                0  2022    2   25  \n"
     ]
    }
   ],
   "source": [
    "import pandas as pd\n",
    "\n",
    "df = pd.read_json(\"https://github.com/danielfireman/ifal-qd/raw/main/df.zip\")\n",
    "print(df.shape)\n",
    "print(df.head())"
   ]
  },
  {
   "cell_type": "code",
   "execution_count": 9,
   "metadata": {},
   "outputs": [
    {
     "name": "stdout",
     "output_type": "stream",
     "text": [
      "\n",
      "## Total de nomeações: 1350\n",
      "\n",
      "## Nomeações por mês\n",
      "\n",
      "ano   mes\n",
      "2022  3      593\n",
      "      4      293\n",
      "      2      215\n",
      "      5      141\n",
      "      1      108\n",
      "Name: num_nomeacoes, dtype: int64\n",
      "\n",
      "## Top 10 Municípios com maior número de nomeações\n",
      "\n",
      "municipio\n",
      "delmiro-gouveia         241\n",
      "mata-grande             219\n",
      "rio-largo               120\n",
      "teotonio-vilela          93\n",
      "sao-jose-da-tapera       78\n",
      "pariconha                57\n",
      "poco-das-trincheiras     57\n",
      "arapiraca                54\n",
      "marechal-deodoro         53\n",
      "pao-de-acucar            50\n",
      "Name: num_nomeacoes, dtype: int64\n"
     ]
    }
   ],
   "source": [
    "print(\"\\n## Total de nomeações: \" + df[\"num_nomeacoes\"].sum().astype(str))\n",
    "\n",
    "print(\"\\n## Nomeações por mês\\n\")\n",
    "print(df.groupby([\"ano\", \"mes\"])[\"num_nomeacoes\"].sum().sort_values(ascending=False).head(10))\n",
    "\n",
    "print(\"\\n## Top 10 Municípios com maior número de nomeações\\n\")\n",
    "print(df.groupby([\"municipio\"])[\"num_nomeacoes\"].sum().sort_values(ascending=False).head(10))"
   ]
  },
  {
   "cell_type": "code",
   "execution_count": 10,
   "metadata": {},
   "outputs": [
    {
     "name": "stdout",
     "output_type": "stream",
     "text": [
      "\n",
      "## Total de exonerações: 200\n",
      "\n",
      "## Exonerações por mês\n",
      "\n",
      "ano   mes\n",
      "2022  2      61\n",
      "      4      44\n",
      "      5      42\n",
      "      3      39\n",
      "      1      14\n",
      "Name: num_exoneracoes, dtype: int64\n",
      "\n",
      "## Top 10 Municípios com maior número de exonerações\n",
      "\n",
      "municipio\n",
      "delmiro-gouveia         38\n",
      "minador-do-negrao       33\n",
      "maragogi                21\n",
      "inhapi                  15\n",
      "rio-largo               13\n",
      "poco-das-trincheiras    12\n",
      "marechal-deodoro         9\n",
      "sao-jose-da-tapera       9\n",
      "atalaia                  6\n",
      "piranhas                 6\n",
      "Name: num_exoneracoes, dtype: int64\n"
     ]
    }
   ],
   "source": [
    "print(\"\\n## Total de exonerações: \" + df[\"num_exoneracoes\"].sum().astype(str))\n",
    "\n",
    "print(\"\\n## Exonerações por mês\\n\")\n",
    "print(df.groupby([\"ano\", \"mes\"])[\"num_exoneracoes\"].sum().sort_values(ascending=False).head(10))\n",
    "\n",
    "print(\"\\n## Top 10 Municípios com maior número de exonerações\\n\")\n",
    "print(df.groupby([\"municipio\"])[\"num_exoneracoes\"].sum().sort_values(ascending=False).head(10))"
   ]
  }
 ],
 "metadata": {
  "kernelspec": {
   "display_name": "Python 3",
   "language": "python",
   "name": "python3"
  },
  "language_info": {
   "codemirror_mode": {
    "name": "ipython",
    "version": 3
   },
   "file_extension": ".py",
   "mimetype": "text/x-python",
   "name": "python",
   "nbconvert_exporter": "python",
   "pygments_lexer": "ipython3",
   "version": "3.10.7"
  },
  "orig_nbformat": 4,
  "vscode": {
   "interpreter": {
    "hash": "aee8b7b246df8f9039afb4144a1f6fd8d2ca17a180786b69acc140d282b71a49"
   }
  }
 },
 "nbformat": 4,
 "nbformat_minor": 2
}
